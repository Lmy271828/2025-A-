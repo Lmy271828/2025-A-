{
 "cells": [
  {
   "cell_type": "code",
   "execution_count": 1,
   "id": "cd510320",
   "metadata": {},
   "outputs": [],
   "source": [
    "import numpy as np\n",
    "from functions import is_target_blocked\n",
    "from numba import njit, prange\n"
   ]
  },
  {
   "cell_type": "code",
   "execution_count": 8,
   "id": "ece0e96b",
   "metadata": {},
   "outputs": [],
   "source": [
    "t_11 = 1.5  # the time when FY1 throw a smoke grenade after launch(s)\n",
    "t_12 = 3.6  # the time between the throw of smoke grenade and its explosion(s)\n",
    "delta_t = 0.01  # time step(s)\n",
    "\n",
    "M1_start_pos = np.array([20000.0, 0.0, 2000.0])\n",
    "FY1_start_pos = np.array([17800.0, 0.0, 0.0])\n",
    "FY1_height = np.array([0.0, 0.0, 1800.0])  # the height of FY1(m)\n",
    "\n",
    "Vm = 300 * -M1_start_pos / np.linalg.norm(M1_start_pos)  # speed of missiles(m/s)\n",
    "V1 = 120 * -FY1_start_pos / np.linalg.norm(FY1_start_pos)  # the velocity of FY1(m/s)\n",
    "\n",
    "g = np.array([0, 0, -9.8])  # the gravity acceleration\n",
    "V_cloud = np.array([0, 0, -3.0])  # the velocity of the cloud(m/s)\n",
    "\n",
    "M1_end_pos = M1_start_pos + Vm * (t_11 + t_12)\n",
    "cloud_center = FY1_start_pos + FY1_height + V1 * (t_11 + t_12) + 0.5 * g * t_12**2\n",
    "\n",
    "T1 = np.linalg.norm(M1_end_pos) / 300  # total flight time of M1(s)"
   ]
  },
  {
   "cell_type": "code",
   "execution_count": 9,
   "id": "14cf9ef8",
   "metadata": {},
   "outputs": [
    {
     "name": "stdout",
     "output_type": "stream",
     "text": [
      "最长遮蔽时间: 1.390 s\n"
     ]
    }
   ],
   "source": [
    "counter = 0\n",
    "steps = int(T1 / delta_t)\n",
    "\n",
    "for i in prange(steps):\n",
    "    t = i * delta_t\n",
    "    M1_pos_now = M1_end_pos + Vm * t    \n",
    "    cloud_center_now = cloud_center + V_cloud * t\n",
    "    distance = np.linalg.norm(M1_pos_now - cloud_center_now)       \n",
    "    if is_target_blocked(M1_pos_now, cloud_center_now, t):\n",
    "        counter += 1\n",
    "\n",
    "max_time = counter * delta_t\n",
    "print(f\"最长遮蔽时间: {max_time:.3f} s\")\n"
   ]
  }
 ],
 "metadata": {
  "kernelspec": {
   "display_name": "base",
   "language": "python",
   "name": "python3"
  },
  "language_info": {
   "codemirror_mode": {
    "name": "ipython",
    "version": 3
   },
   "file_extension": ".py",
   "mimetype": "text/x-python",
   "name": "python",
   "nbconvert_exporter": "python",
   "pygments_lexer": "ipython3",
   "version": "3.13.5"
  }
 },
 "nbformat": 4,
 "nbformat_minor": 5
}
