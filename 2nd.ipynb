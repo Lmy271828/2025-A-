{
 "cells": [
  {
   "cell_type": "code",
   "execution_count": 1,
   "id": "89e07050",
   "metadata": {},
   "outputs": [],
   "source": [
    "import numpy as np\n",
    "from numba import njit,prange\n",
    "from scipy.optimize import differential_evolution\n",
    "from functions import is_target_blocked, v_of_fy\n"
   ]
  },
  {
   "cell_type": "code",
   "execution_count": 2,
   "id": "6e8788b0",
   "metadata": {},
   "outputs": [],
   "source": [
    "delta_t = 0.01  # time step(s)\n",
    "\n",
    "M1_start_pos = np.array([20000, 0, 2000])\n",
    "FY1_start_pos = np.array([17800, 0, 0])\n",
    "FY1_height = np.array([0, 0, 1800])  # the height of FY1(m)\n",
    "\n",
    "Vm = 300 * -M1_start_pos / np.linalg.norm(M1_start_pos)  # velocity of missiles(m/s)\n",
    "\n",
    "g = np.array([0, 0, -9.8])  # the gravity acceleration\n",
    "V_cloud = np.array([0, 0, -3])  # the velocity of the cloud(m/s)\n",
    "\n",
    "\n"
   ]
  },
  {
   "cell_type": "code",
   "execution_count": 3,
   "id": "661a3b01",
   "metadata": {},
   "outputs": [],
   "source": [
    "@njit(fastmath=True, parallel=True, cache=True, nogil=True)\n",
    "def objective(x):\n",
    "    theta, speed, t_11, t_12 = x\n",
    "    V1 = v_of_fy(speed, theta)\n",
    "    M1_end_pos = M1_start_pos + Vm * (t_11 + t_12)\n",
    "    T1 = np.sqrt(np.sum(M1_end_pos ** 2)) / 300\n",
    "    cloud_center = FY1_start_pos + FY1_height + V1 * (t_11 + t_12) + 0.5 * g * t_12**2\n",
    "    counter = 0\n",
    "    tmax = max(20.0, T1)\n",
    "    steps = int(tmax / delta_t)\n",
    "    for i in prange(steps):\n",
    "        t = i * delta_t\n",
    "        M1_pos_now = M1_end_pos + Vm * t\n",
    "        cloud_center_now = cloud_center + V_cloud * t\n",
    "        if is_target_blocked(M1_pos_now, cloud_center_now, t):\n",
    "            counter += 1\n",
    "    return -counter * delta_t"
   ]
  },
  {
   "cell_type": "code",
   "execution_count": 22,
   "id": "8f629a80",
   "metadata": {},
   "outputs": [
    {
     "name": "stdout",
     "output_type": "stream",
     "text": [
      "differential_evolution step 1: f(x)= -2.48\n",
      "differential_evolution step 2: f(x)= -2.48\n",
      "differential_evolution step 3: f(x)= -2.48\n",
      "differential_evolution step 4: f(x)= -2.48\n",
      "differential_evolution step 5: f(x)= -2.48\n",
      "differential_evolution step 6: f(x)= -2.48\n",
      "differential_evolution step 7: f(x)= -2.48\n",
      "differential_evolution step 8: f(x)= -2.48\n",
      "differential_evolution step 9: f(x)= -2.48\n",
      "differential_evolution step 10: f(x)= -3.75\n",
      "differential_evolution step 11: f(x)= -3.75\n",
      "differential_evolution step 12: f(x)= -3.75\n",
      "differential_evolution step 13: f(x)= -3.75\n",
      "differential_evolution step 14: f(x)= -4.09\n",
      "differential_evolution step 15: f(x)= -4.09\n",
      "differential_evolution step 16: f(x)= -4.09\n",
      "differential_evolution step 17: f(x)= -4.11\n",
      "differential_evolution step 18: f(x)= -4.11\n",
      "differential_evolution step 19: f(x)= -4.11\n",
      "differential_evolution step 20: f(x)= -4.11\n",
      "differential_evolution step 21: f(x)= -4.11\n",
      "differential_evolution step 22: f(x)= -4.2700000000000005\n",
      "differential_evolution step 23: f(x)= -4.2700000000000005\n",
      "differential_evolution step 24: f(x)= -4.43\n",
      "differential_evolution step 25: f(x)= -4.43\n",
      "differential_evolution step 26: f(x)= -4.43\n",
      "differential_evolution step 27: f(x)= -4.43\n",
      "differential_evolution step 28: f(x)= -4.5600000000000005\n",
      "differential_evolution step 29: f(x)= -4.5600000000000005\n",
      "differential_evolution step 30: f(x)= -4.59\n",
      "differential_evolution step 31: f(x)= -4.59\n",
      "differential_evolution step 32: f(x)= -4.6000000000000005\n",
      "differential_evolution step 33: f(x)= -4.6000000000000005\n",
      "differential_evolution step 34: f(x)= -4.6000000000000005\n",
      "differential_evolution step 35: f(x)= -4.6000000000000005\n",
      "differential_evolution step 36: f(x)= -4.61\n",
      "differential_evolution step 37: f(x)= -4.61\n",
      "differential_evolution step 38: f(x)= -4.61\n",
      "Polishing solution with 'L-BFGS-B'\n",
      "最长遮蔽时间: 4.610 s\n",
      "最优参数: theta=0.092, speed=117.246, t_11=0.695, t_12=0.339\n"
     ]
    }
   ],
   "source": [
    "# pack the arguments into a single tuple for the objective function\n",
    "\n",
    "bounds = [(0, 2*np.pi), (70, 140), (0, 5), (0, 5)]\n",
    "result = differential_evolution(objective, bounds, popsize=8, disp=True, polish=True, maxiter=1000)\n",
    "theta, speed, t_11, t_12 = result.x\n",
    "max_time = -result.fun\n",
    "print(f\"最长遮蔽时间: {max_time:.3f} s\")\n",
    "print(f\"最优参数: theta={theta:.3f}, speed={speed:.3f}, t_11={t_11:.3f}, t_12={t_12:.3f}\")"
   ]
  },
  {
   "cell_type": "markdown",
   "id": "e6e3967c",
   "metadata": {},
   "source": [
    "最长遮蔽时间: 4.610 s\n",
    "最优参数: theta=0.104, speed=100.995, t_11=0.411, t_12=0.669\n",
    "最长遮蔽时间: 4.610 s\n",
    "最优参数: theta=0.092, speed=117.246, t_11=0.695, t_12=0.339\n"
   ]
  }
 ],
 "metadata": {
  "kernelspec": {
   "display_name": "base",
   "language": "python",
   "name": "python3"
  },
  "language_info": {
   "codemirror_mode": {
    "name": "ipython",
    "version": 3
   },
   "file_extension": ".py",
   "mimetype": "text/x-python",
   "name": "python",
   "nbconvert_exporter": "python",
   "pygments_lexer": "ipython3",
   "version": "3.13.5"
  }
 },
 "nbformat": 4,
 "nbformat_minor": 5
}
